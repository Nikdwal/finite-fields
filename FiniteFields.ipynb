{
 "cells": [
  {
   "cell_type": "markdown",
   "metadata": {},
   "source": [
    "_____________\n",
    "**Noot**: Het is ten zeerste aangeraden om deze bibliotheek in de [interactieve shell van Python](https://docs.python.org/2/tutorial/interpreter.html#interactive-mode) uit te proberen om de berekeningen mee te volgen.\n",
    "_____________"
   ]
  },
  {
   "cell_type": "markdown",
   "metadata": {},
   "source": [
    "# 1. Eindige velden"
   ]
  },
  {
   "cell_type": "code",
   "execution_count": 1,
   "metadata": {
    "collapsed": true
   },
   "outputs": [],
   "source": [
    "from FiniteField import *\n",
    "from util import *"
   ]
  },
  {
   "cell_type": "markdown",
   "metadata": {},
   "source": [
    "## 1.1 Rekenen modulo $p$"
   ]
  },
  {
   "cell_type": "markdown",
   "metadata": {},
   "source": [
    "We experimenteren eerst binnen het veld $\\mathbb{Z}_5$"
   ]
  },
  {
   "cell_type": "code",
   "execution_count": 2,
   "metadata": {},
   "outputs": [
    {
     "name": "stdout",
     "output_type": "stream",
     "text": [
      "Z5 = [0, 1, 2, 3, 4]\n"
     ]
    }
   ],
   "source": [
    "Z5 = IntegerField(5)\n",
    "print(\"Z5 =\", Z5)"
   ]
  },
  {
   "cell_type": "markdown",
   "metadata": {},
   "source": [
    "Let erop dat dit niet gewoon getallen zijn. Het zijn objecten die er uitzien als een getal wanneer ze afgedrukt worden. Je kunt best variabelen aanmaken voor elk van deze elementen. Merk wel op dat je gewoon kunt itereren over het veld alsof het een lijst zou zijn."
   ]
  },
  {
   "cell_type": "code",
   "execution_count": 3,
   "metadata": {
    "scrolled": false
   },
   "outputs": [
    {
     "data": {
      "text/plain": [
       "(0, 1, 4)"
      ]
     },
     "execution_count": 3,
     "metadata": {},
     "output_type": "execute_result"
    }
   ],
   "source": [
    "zero, one, two, three, four = tuple([elem for elem in Z5])\n",
    "# alternatief: zero, one, two, three, four = tuple(Z5.get_elems())\n",
    "Z5.zero(), Z5.one(), Z5[4]"
   ]
  },
  {
   "cell_type": "markdown",
   "metadata": {},
   "source": [
    "Je kunt ook naar elementen verwijzen via hun index. Die index je vind je in de lijst die je ziet als je het veld afdrukt. In een `IntegerField` is `F[i] == i`. In uitbreidingsvelden is dit niet altijd het geval."
   ]
  },
  {
   "cell_type": "code",
   "execution_count": 4,
   "metadata": {},
   "outputs": [
    {
     "name": "stdout",
     "output_type": "stream",
     "text": [
      "[0, 1, 2, 3, 4]\n",
      "2\n"
     ]
    }
   ],
   "source": [
    "print(Z5)\n",
    "two = Z5[2]\n",
    "print(two)"
   ]
  },
  {
   "cell_type": "markdown",
   "metadata": {},
   "source": [
    "Je kunt er wel mee modulorekenen alsof het getallen waren. (Hier: modulo 5)"
   ]
  },
  {
   "cell_type": "code",
   "execution_count": 5,
   "metadata": {},
   "outputs": [
    {
     "data": {
      "text/plain": [
       "3"
      ]
     },
     "execution_count": 5,
     "metadata": {},
     "output_type": "execute_result"
    }
   ],
   "source": [
    "one + two"
   ]
  },
  {
   "cell_type": "code",
   "execution_count": 6,
   "metadata": {},
   "outputs": [
    {
     "data": {
      "text/plain": [
       "2"
      ]
     },
     "execution_count": 6,
     "metadata": {},
     "output_type": "execute_result"
    }
   ],
   "source": [
    "three * four"
   ]
  },
  {
   "cell_type": "code",
   "execution_count": 7,
   "metadata": {},
   "outputs": [
    {
     "data": {
      "text/plain": [
       "4"
      ]
     },
     "execution_count": 7,
     "metadata": {},
     "output_type": "execute_result"
    }
   ],
   "source": [
    "two / three"
   ]
  },
  {
   "cell_type": "markdown",
   "metadata": {},
   "source": [
    "Ook veelvouden en machten:"
   ]
  },
  {
   "cell_type": "code",
   "execution_count": 8,
   "metadata": {},
   "outputs": [
    {
     "data": {
      "text/plain": [
       "1"
      ]
     },
     "execution_count": 8,
     "metadata": {},
     "output_type": "execute_result"
    }
   ],
   "source": [
    "2 * three"
   ]
  },
  {
   "cell_type": "code",
   "execution_count": 9,
   "metadata": {},
   "outputs": [
    {
     "data": {
      "text/plain": [
       "4"
      ]
     },
     "execution_count": 9,
     "metadata": {},
     "output_type": "execute_result"
    }
   ],
   "source": [
    "three ** 2"
   ]
  },
  {
   "cell_type": "markdown",
   "metadata": {},
   "source": [
    "Vermenigvuldiging en deling worden efficient uitgevoerd omdat we een generator hebben."
   ]
  },
  {
   "cell_type": "code",
   "execution_count": 10,
   "metadata": {},
   "outputs": [
    {
     "data": {
      "text/plain": [
       "2"
      ]
     },
     "execution_count": 10,
     "metadata": {},
     "output_type": "execute_result"
    }
   ],
   "source": [
    "Z5.generator()"
   ]
  },
  {
   "cell_type": "code",
   "execution_count": 11,
   "metadata": {},
   "outputs": [
    {
     "name": "stdout",
     "output_type": "stream",
     "text": [
      "2⁰ = 1\n",
      "2¹ = 2\n",
      "2² = 4\n",
      "2³ = 3\n",
      "2⁴ = 1\n"
     ]
    }
   ],
   "source": [
    "# even een functie definieren om exponenten te printen\n",
    "def printpow(base, exponent):\n",
    "    superscript = str.maketrans(\"0123456789\", \"⁰¹²³⁴⁵⁶⁷⁸⁹\")\n",
    "    return str(base) + str(exponent).translate(superscript)\n",
    "\n",
    "g = Z5.generator()\n",
    "for i in range(len(Z5)):\n",
    "    print(printpow(g,i), \"=\", Z5.generator_to_power(i))"
   ]
  },
  {
   "cell_type": "markdown",
   "metadata": {},
   "source": [
    "Of omgekeerd: de exponent opzoeken met de `generator_exponent`-methode:"
   ]
  },
  {
   "cell_type": "code",
   "execution_count": 12,
   "metadata": {},
   "outputs": [
    {
     "name": "stdout",
     "output_type": "stream",
     "text": [
      "1 = 2⁰\n",
      "2 = 2¹\n",
      "3 = 2³\n",
      "4 = 2²\n"
     ]
    }
   ],
   "source": [
    "for elem in Z5:\n",
    "    if not elem.is_zero():\n",
    "        print(elem, \"=\", printpow(g,Z5.generator_exponent(elem)))"
   ]
  },
  {
   "cell_type": "markdown",
   "metadata": {},
   "source": [
    "## 1.2 Veeltermen"
   ]
  },
  {
   "cell_type": "markdown",
   "metadata": {},
   "source": [
    "We kunnen ook veeltermen definieren. Het $i$-de element dat je meegeeft is de coefficient bij $x^i$ (te tellen vanaf 0)."
   ]
  },
  {
   "cell_type": "code",
   "execution_count": 13,
   "metadata": {},
   "outputs": [
    {
     "data": {
      "text/plain": [
       "2 + 3x + x³"
      ]
     },
     "execution_count": 13,
     "metadata": {},
     "output_type": "execute_result"
    }
   ],
   "source": [
    "Polynomial([two, three, zero, one])"
   ]
  },
  {
   "cell_type": "markdown",
   "metadata": {},
   "source": [
    "En die hebben hun eigen algebra:"
   ]
  },
  {
   "cell_type": "code",
   "execution_count": 14,
   "metadata": {},
   "outputs": [
    {
     "name": "stdout",
     "output_type": "stream",
     "text": [
      "1 + x²\n",
      "2 + 2x\n",
      "x⁵ + x⁷\n",
      "4 + 4x\n",
      "2 + 2x + 2x² + 2x³\n",
      "2 + 3x\n",
      "2\n"
     ]
    }
   ],
   "source": [
    "p = Polynomial.one(Z5) + Polynomial.x_to_power(2, Z5)\n",
    "q = Polynomial([two, two])\n",
    "print(p)\n",
    "print(q)\n",
    "print(p.multiply_x_to_power(5))\n",
    "print(two * q)\n",
    "print(p * q)\n",
    "print(p // q) # deling waarbij de rest genegeerd wordt\n",
    "print(p % q)"
   ]
  },
  {
   "cell_type": "markdown",
   "metadata": {},
   "source": [
    "Gehele deling is altijd gedefinieerd, maar let erop dat er een verschil is tussen \"/\" en \"//\". Niet alle veeltermen kunnen met \"/\" door elkaar gedeeld worden."
   ]
  },
  {
   "cell_type": "code",
   "execution_count": 15,
   "metadata": {
    "scrolled": true
   },
   "outputs": [
    {
     "name": "stdout",
     "output_type": "stream",
     "text": [
      "Cannot divide these two polynomials. The remainder is non-zero.\n"
     ]
    }
   ],
   "source": [
    "try:\n",
    "    p / q\n",
    "except ValueError as e:\n",
    "    print(e)"
   ]
  },
  {
   "cell_type": "markdown",
   "metadata": {},
   "source": [
    "Toepassen op een element is zoals je zou verwachten:"
   ]
  },
  {
   "cell_type": "code",
   "execution_count": 16,
   "metadata": {
    "scrolled": true
   },
   "outputs": [
    {
     "data": {
      "text/plain": [
       "2"
      ]
     },
     "execution_count": 16,
     "metadata": {},
     "output_type": "execute_result"
    }
   ],
   "source": [
    "p(one)"
   ]
  },
  {
   "cell_type": "markdown",
   "metadata": {},
   "source": [
    "Nulpunten en factorisatie:"
   ]
  },
  {
   "cell_type": "code",
   "execution_count": 17,
   "metadata": {},
   "outputs": [
    {
     "name": "stdout",
     "output_type": "stream",
     "text": [
      "2, 3, "
     ]
    }
   ],
   "source": [
    "for root in p.find_roots():\n",
    "    print(root, end=\", \")"
   ]
  },
  {
   "cell_type": "code",
   "execution_count": 18,
   "metadata": {},
   "outputs": [
    {
     "name": "stdout",
     "output_type": "stream",
     "text": [
      "[2 + x, 3 + x]\n",
      "True\n"
     ]
    }
   ],
   "source": [
    "factors = p.factor()\n",
    "print(factors)\n",
    "print(product(factors) == p)"
   ]
  },
  {
   "cell_type": "code",
   "execution_count": 19,
   "metadata": {},
   "outputs": [
    {
     "data": {
      "text/plain": [
       "True"
      ]
     },
     "execution_count": 19,
     "metadata": {},
     "output_type": "execute_result"
    }
   ],
   "source": [
    "p.is_reducible()"
   ]
  },
  {
   "cell_type": "markdown",
   "metadata": {},
   "source": [
    "Wat informatie over de coefficienten:"
   ]
  },
  {
   "cell_type": "code",
   "execution_count": 20,
   "metadata": {},
   "outputs": [
    {
     "name": "stdout",
     "output_type": "stream",
     "text": [
      "1, 0, 1, "
     ]
    }
   ],
   "source": [
    "for coef in p:\n",
    "    print(coef, end=\", \")"
   ]
  },
  {
   "cell_type": "markdown",
   "metadata": {},
   "source": [
    "Wat op hetzelfde neerkomt als"
   ]
  },
  {
   "cell_type": "code",
   "execution_count": 21,
   "metadata": {
    "scrolled": true
   },
   "outputs": [
    {
     "name": "stdout",
     "output_type": "stream",
     "text": [
      "1, 0, 1, "
     ]
    }
   ],
   "source": [
    "for i in range(len(p)):\n",
    "    print(p[i], end=\", \")"
   ]
  },
  {
   "cell_type": "code",
   "execution_count": 22,
   "metadata": {},
   "outputs": [
    {
     "data": {
      "text/plain": [
       "(3, 2)"
      ]
     },
     "execution_count": 22,
     "metadata": {},
     "output_type": "execute_result"
    }
   ],
   "source": [
    "len(p), p.degree()"
   ]
  },
  {
   "cell_type": "markdown",
   "metadata": {},
   "source": [
    "## 1.3 Uitbreidingsvelden"
   ]
  },
  {
   "cell_type": "markdown",
   "metadata": {},
   "source": [
    "We zoeken een primitieve veelterm $w(x)$ van graad 2 in $\\mathbb{Z}_2[x]$ om het uitbreidingsveld $GF(2^2) = GF(4) \\cong \\mathbb{Z}_2[x]|_{w(x)}$ te construeren."
   ]
  },
  {
   "cell_type": "code",
   "execution_count": 23,
   "metadata": {},
   "outputs": [
    {
     "name": "stdout",
     "output_type": "stream",
     "text": [
      "w(x) = 1 + x + x²\n",
      "ξ⁰ = 1\n",
      "ξ¹ = ξ\n",
      "ξ² = 1 + ξ\n"
     ]
    }
   ],
   "source": [
    "Z2 = IntegerField(2)\n",
    "\n",
    "w, xi_powers = Z2.find_primitive_polynomial(2)\n",
    "# xi_powers geeft de machten van het primitieve element, uitgedrukt als veeltermen in x\n",
    "print(\"w(x) =\", w)\n",
    "for i in range(len(xi_powers)):\n",
    "    print(printpow(\"ξ\", i), \"=\", str(xi_powers[i]).replace(\"x\", \"ξ\"))"
   ]
  },
  {
   "cell_type": "markdown",
   "metadata": {},
   "source": [
    "Hiermee kunnen we dus een uitbreidingsveld $GF(2^2) = GF(4)$ construeren."
   ]
  },
  {
   "cell_type": "code",
   "execution_count": 24,
   "metadata": {},
   "outputs": [
    {
     "data": {
      "text/plain": [
       "[0, 1, ξ, 1 + ξ]"
      ]
     },
     "execution_count": 24,
     "metadata": {},
     "output_type": "execute_result"
    }
   ],
   "source": [
    "GF4 = ExtendedField(Z2, 2, \"ξ\")\n",
    "GF4"
   ]
  },
  {
   "cell_type": "markdown",
   "metadata": {},
   "source": [
    "We kunnen in dit nieuwe veld opnieuw rekenen"
   ]
  },
  {
   "cell_type": "code",
   "execution_count": 25,
   "metadata": {},
   "outputs": [
    {
     "name": "stdout",
     "output_type": "stream",
     "text": [
      "1\n",
      "ξ\n",
      "1 + ξ\n",
      "1\n"
     ]
    }
   ],
   "source": [
    "xi = GF4.generator()\n",
    "for i in range(len(GF4)):\n",
    "    print(xi ** i)"
   ]
  },
  {
   "cell_type": "code",
   "execution_count": 26,
   "metadata": {
    "scrolled": false
   },
   "outputs": [
    {
     "data": {
      "text/plain": [
       "1"
      ]
     },
     "execution_count": 26,
     "metadata": {},
     "output_type": "execute_result"
    }
   ],
   "source": [
    "xi + 3 * GF4[3]"
   ]
  },
  {
   "cell_type": "markdown",
   "metadata": {},
   "source": [
    "We kunnen dit veld natuurlijk nog eens uitbreiden tot $GF(4^2) = GF(16)$."
   ]
  },
  {
   "cell_type": "code",
   "execution_count": 27,
   "metadata": {
    "scrolled": true
   },
   "outputs": [
    {
     "data": {
      "text/plain": [
       "[0, 1, φ, ξ + φ, ξ + (1 + ξ)φ, 1 + φ, ξ, ξφ, 1 + ξ + ξφ, 1 + ξ + φ, ξ + ξφ, 1 + ξ, (1 + ξ)φ, 1 + (1 + ξ)φ, 1 + ξφ, 1 + ξ + (1 + ξ)φ]"
      ]
     },
     "execution_count": 27,
     "metadata": {},
     "output_type": "execute_result"
    }
   ],
   "source": [
    "ExtendedField(GF4, 2, greek_alphabet[21])"
   ]
  },
  {
   "cell_type": "markdown",
   "metadata": {},
   "source": [
    "Let erop dat je geen bewerkingen kunt uitvoeren tussen elementen van $GF(2)$ en $GF(4)$."
   ]
  },
  {
   "cell_type": "code",
   "execution_count": 28,
   "metadata": {},
   "outputs": [
    {
     "name": "stdout",
     "output_type": "stream",
     "text": [
      "Error: Cannot compute 1 + 1 . This is too difficult.\n"
     ]
    }
   ],
   "source": [
    "x = Z2[1]\n",
    "y = GF4[1]\n",
    "try:\n",
    "    print(x + y)\n",
    "except Exception:\n",
    "    print(\"Error: Cannot compute\", x, \"+\", y, \". This is too difficult.\")"
   ]
  },
  {
   "cell_type": "markdown",
   "metadata": {},
   "source": [
    "Je ziet dat dit niet werkt, ook al zien de elementen er hetzelfde uit. Dit komt doordat de twee elementen achter de schermen anders worden voorgesteld. Om dit op te lossen, kun je de methode `equiv_in_ext_field` gebruiken."
   ]
  },
  {
   "cell_type": "code",
   "execution_count": 29,
   "metadata": {
    "scrolled": true
   },
   "outputs": [
    {
     "name": "stdout",
     "output_type": "stream",
     "text": [
      "1\n"
     ]
    }
   ],
   "source": [
    "zero_GF4 = Z2.zero().equiv_in_ext_field(GF4)\n",
    "print(zero_GF4 + GF4[1])"
   ]
  },
  {
   "cell_type": "markdown",
   "metadata": {},
   "source": [
    "En dit is dus wel gedefinieerd."
   ]
  },
  {
   "cell_type": "markdown",
   "metadata": {},
   "source": [
    "Bij veeltermen kun je dezelfde methode `equiv_in_ext_field` gebruiken."
   ]
  },
  {
   "cell_type": "code",
   "execution_count": 30,
   "metadata": {
    "scrolled": true
   },
   "outputs": [
    {
     "name": "stdout",
     "output_type": "stream",
     "text": [
      "p(x)     = 1 + x² + x³\n",
      "p_GF4(x) = 1 + x² + x³\n",
      "p_GF4(ξ) = 1 + ξ\n"
     ]
    }
   ],
   "source": [
    "zero, one = Z2.get_elems()\n",
    "\n",
    "p = Polynomial([one, zero, one, one]) # 1x⁰ + 0x¹ + 1x² + 1x³\n",
    "p_GF4 = p.equiv_in_ext_field(GF4)\n",
    "print(\"p(x)     =\", p)\n",
    "print(\"p_GF4(x) =\", p_GF4)\n",
    "print(\"p_GF4(ξ) =\", p_GF4(xi))"
   ]
  },
  {
   "cell_type": "markdown",
   "metadata": {},
   "source": [
    "En bij velden ook:"
   ]
  },
  {
   "cell_type": "code",
   "execution_count": 31,
   "metadata": {},
   "outputs": [
    {
     "name": "stdout",
     "output_type": "stream",
     "text": [
      "[0, 1]\n",
      "(0, 1)\n"
     ]
    }
   ],
   "source": [
    "print(Z2)\n",
    "print(Z2.equiv_in_ext_field(GF4))\n",
    "# omdat dit een tupel is, kun je heel eenvoudig\n",
    "# zero, one = Z2.equiv_in_ext_field(GF4) gebruiken"
   ]
  },
  {
   "cell_type": "markdown",
   "metadata": {},
   "source": [
    "In plaats van `equiv_in_ext_field` kun je natuurlijk ook de elementen van $GF(4)$ rechtstreeks aanspreken, zoals hiervoor:"
   ]
  },
  {
   "cell_type": "code",
   "execution_count": 32,
   "metadata": {},
   "outputs": [
    {
     "name": "stdout",
     "output_type": "stream",
     "text": [
      "[0, 1, ξ, 1 + ξ]\n",
      "[0, 1, ξ]\n"
     ]
    }
   ],
   "source": [
    "print(GF4)\n",
    "zero, one, xi = GF4.get_elems()[:3]\n",
    "print([zero, one, xi])"
   ]
  },
  {
   "cell_type": "markdown",
   "metadata": {},
   "source": [
    "De inverse functie is `equiv_in_subfield`.\n",
    "\n",
    "Als je niet meer weet tot welk veld een element behoort, kun je dat opvragen met de variabele `field`. Wijzig deze alsjeblieft niet."
   ]
  },
  {
   "cell_type": "code",
   "execution_count": 33,
   "metadata": {},
   "outputs": [
    {
     "name": "stdout",
     "output_type": "stream",
     "text": [
      "one2 ∈ [0, 1]\n",
      "one4 ∈ [0, 1, ξ, 1 + ξ]\n"
     ]
    }
   ],
   "source": [
    "one4 = GF4.one()\n",
    "one2 = one4.equiv_in_subfield(Z2)\n",
    "print(\"one2 ∈\", one2.field)\n",
    "print(\"one4 ∈\", one4.field)"
   ]
  },
  {
   "cell_type": "markdown",
   "metadata": {},
   "source": [
    "## 1.4 Factorisatie van $x^n - 1$"
   ]
  },
  {
   "cell_type": "markdown",
   "metadata": {},
   "source": [
    "We vertrekken met de volgende veelterm in $GF(4)[x]$. Mer op dat aagezien $-1 = 1 \\text{ (mod 2)}$, deze veelterm ook uitgedrukt kan worden als $x^n + 1$"
   ]
  },
  {
   "cell_type": "code",
   "execution_count": 34,
   "metadata": {},
   "outputs": [
    {
     "data": {
      "text/plain": [
       "1 + x⁵"
      ]
     },
     "execution_count": 34,
     "metadata": {},
     "output_type": "execute_result"
    }
   ],
   "source": [
    "n = 5\n",
    "p = Polynomial.x_to_power(n, GF4) - Polynomial.one(GF4)\n",
    "p"
   ]
  },
  {
   "cell_type": "markdown",
   "metadata": {},
   "source": [
    "We hebben nood aan een uitbreidingsveld $GF(4^k)$ waarin we een element $\\beta$ kunnen vinden dat een primitieve $n$-de wortel uit 1 is. $k$ is hierbij het kleinste getal waarvoor $4^k = 1 \\text{ (mod } n \\text{)}$"
   ]
  },
  {
   "cell_type": "code",
   "execution_count": 35,
   "metadata": {},
   "outputs": [
    {
     "name": "stdout",
     "output_type": "stream",
     "text": [
      "β = ξ + (1 + ξ)α \n",
      "k = 2\n"
     ]
    }
   ],
   "source": [
    "beta, k = GF4.nth_root_of_unity(p.degree(), return_k=True)\n",
    "# de return_k parameter is optioneel\n",
    "print(\"β =\",beta, \"\\nk =\", k)"
   ]
  },
  {
   "cell_type": "markdown",
   "metadata": {},
   "source": [
    "We zien dat $\\beta$ niet in $GF(4)$ gelegen is, maar in $GF(4^k)$. Volgens de theorie zijn alle machten van $\\beta$ een oplossing van $p$."
   ]
  },
  {
   "cell_type": "code",
   "execution_count": 36,
   "metadata": {},
   "outputs": [
    {
     "data": {
      "text/plain": [
       "True"
      ]
     },
     "execution_count": 36,
     "metadata": {},
     "output_type": "execute_result"
    }
   ],
   "source": [
    "# let op: p is gedefinieerd over GF(4), niet over GF(4^k), waarin β zich bevindt.\n",
    "P = p.equiv_in_ext_field(beta.field)\n",
    "all([P(beta ** i).is_zero() for i in range(n+1)])"
   ]
  },
  {
   "cell_type": "markdown",
   "metadata": {},
   "source": [
    "We bepalen de factorisatie met behulp van de cyclotomische nevenklassen modulo $n$ over $GF(4)$."
   ]
  },
  {
   "cell_type": "code",
   "execution_count": 37,
   "metadata": {},
   "outputs": [
    {
     "data": {
      "text/plain": [
       "[[0], [1, 4], [2, 3]]"
      ]
     },
     "execution_count": 37,
     "metadata": {},
     "output_type": "execute_result"
    }
   ],
   "source": [
    "cyclotomic_cosets(4, n)"
   ]
  },
  {
   "cell_type": "markdown",
   "metadata": {},
   "source": [
    "Als we deze machten van $\\beta$ combineren, hebben we een factorisatie van $x^n - 1$ over $GF(4)$."
   ]
  },
  {
   "cell_type": "code",
   "execution_count": 38,
   "metadata": {},
   "outputs": [
    {
     "name": "stdout",
     "output_type": "stream",
     "text": [
      "1 + x\n",
      "1 + (1 + ξ)x + x²\n",
      "1 + ξx + x²\n"
     ]
    }
   ],
   "source": [
    "factors = GF4.factor_nth_root(n)\n",
    "for factor in factors:\n",
    "    print(factor)"
   ]
  },
  {
   "cell_type": "markdown",
   "metadata": {},
   "source": [
    "En inderdaad:"
   ]
  },
  {
   "cell_type": "code",
   "execution_count": 39,
   "metadata": {},
   "outputs": [
    {
     "data": {
      "text/plain": [
       "True"
      ]
     },
     "execution_count": 39,
     "metadata": {},
     "output_type": "execute_result"
    }
   ],
   "source": [
    "product(factors) == p"
   ]
  },
  {
   "cell_type": "markdown",
   "metadata": {},
   "source": [
    "# 2. Codetheorie"
   ]
  },
  {
   "cell_type": "markdown",
   "metadata": {},
   "source": [
    "## 2.1 Lineaire algebra"
   ]
  },
  {
   "cell_type": "code",
   "execution_count": 40,
   "metadata": {
    "collapsed": true
   },
   "outputs": [],
   "source": [
    "from LinearAlgebra import *"
   ]
  },
  {
   "cell_type": "markdown",
   "metadata": {},
   "source": [
    "Vectoren en matrices zijn vanzelfsprekend zodra je in eindige velden kunt werken."
   ]
  },
  {
   "cell_type": "code",
   "execution_count": 41,
   "metadata": {
    "collapsed": true
   },
   "outputs": [],
   "source": [
    "Z3 = IntegerField(3)\n",
    "zero, one, two = Z3.get_elems()"
   ]
  },
  {
   "cell_type": "code",
   "execution_count": 42,
   "metadata": {},
   "outputs": [
    {
     "data": {
      "text/plain": [
       "[1, 1, 0, 2, 1]"
      ]
     },
     "execution_count": 42,
     "metadata": {},
     "output_type": "execute_result"
    }
   ],
   "source": [
    "v = Vector([one, two, zero, two, zero])\n",
    "w = Vector([zero, two, zero, zero, one])\n",
    "v + w"
   ]
  },
  {
   "cell_type": "code",
   "execution_count": 43,
   "metadata": {},
   "outputs": [
    {
     "data": {
      "text/plain": [
       "[0, 1, 0, 0, 2]"
      ]
     },
     "execution_count": 43,
     "metadata": {},
     "output_type": "execute_result"
    }
   ],
   "source": [
    "two * w"
   ]
  },
  {
   "cell_type": "markdown",
   "metadata": {},
   "source": [
    "Hamming-gewicht en -afstand:"
   ]
  },
  {
   "cell_type": "code",
   "execution_count": 44,
   "metadata": {
    "scrolled": true
   },
   "outputs": [
    {
     "data": {
      "text/plain": [
       "(3, 3)"
      ]
     },
     "execution_count": 44,
     "metadata": {},
     "output_type": "execute_result"
    }
   ],
   "source": [
    "(v - w).weight(), v.distance(w)"
   ]
  },
  {
   "cell_type": "markdown",
   "metadata": {},
   "source": [
    "Indexatie en iteratie:"
   ]
  },
  {
   "cell_type": "code",
   "execution_count": 45,
   "metadata": {},
   "outputs": [
    {
     "name": "stdout",
     "output_type": "stream",
     "text": [
      "1, 2, 0, 2, 0, "
     ]
    }
   ],
   "source": [
    "for i in range(len(v)):\n",
    "    print(v[i], end=\", \")"
   ]
  },
  {
   "cell_type": "code",
   "execution_count": 46,
   "metadata": {},
   "outputs": [
    {
     "name": "stdout",
     "output_type": "stream",
     "text": [
      "1, 2, 0, 2, 0, "
     ]
    }
   ],
   "source": [
    "for component in v:\n",
    "    print(component, end=\", \")"
   ]
  },
  {
   "cell_type": "code",
   "execution_count": 47,
   "metadata": {},
   "outputs": [
    {
     "data": {
      "text/plain": [
       "[1, 2, 0, 2, 0]"
      ]
     },
     "execution_count": 47,
     "metadata": {},
     "output_type": "execute_result"
    }
   ],
   "source": [
    "v.get_elems()"
   ]
  },
  {
   "cell_type": "markdown",
   "metadata": {},
   "source": [
    "De matrices zijn ook van de partij:"
   ]
  },
  {
   "cell_type": "code",
   "execution_count": 48,
   "metadata": {
    "scrolled": false
   },
   "outputs": [
    {
     "name": "stdout",
     "output_type": "stream",
     "text": [
      "[2, 1]\n",
      "[1, 0]\n",
      "\n"
     ]
    }
   ],
   "source": [
    "A = Matrix([[one, two], [two, zero]])\n",
    "print(A + A.transpose())"
   ]
  },
  {
   "cell_type": "code",
   "execution_count": 49,
   "metadata": {
    "scrolled": true
   },
   "outputs": [
    {
     "name": "stdout",
     "output_type": "stream",
     "text": [
      "[1, 2]\n",
      "[2, 0]\n"
     ]
    }
   ],
   "source": [
    "for row in A:\n",
    "    print(Vector(row))"
   ]
  },
  {
   "cell_type": "markdown",
   "metadata": {},
   "source": [
    "Vectoren zijn hier rijmatrices, geen kolommatrices. Dat is van belang voor de vermenigvuldiging."
   ]
  },
  {
   "cell_type": "code",
   "execution_count": 50,
   "metadata": {},
   "outputs": [
    {
     "name": "stdout",
     "output_type": "stream",
     "text": [
      "Je moest de volgorde omkeren om te vermenigvuldigen. v.A = [2, 0]\n"
     ]
    }
   ],
   "source": [
    "v = Vector([zero, one])\n",
    "try:\n",
    "    print(A * v)\n",
    "except Exception:\n",
    "    print(\"Je moest de volgorde omkeren om te vermenigvuldigen. v.A =\", v * A)"
   ]
  },
  {
   "cell_type": "code",
   "execution_count": null,
   "metadata": {
    "collapsed": true
   },
   "outputs": [],
   "source": []
  }
 ],
 "metadata": {
  "kernelspec": {
   "display_name": "Python 3",
   "language": "python",
   "name": "python3"
  },
  "language_info": {
   "codemirror_mode": {
    "name": "ipython",
    "version": 3
   },
   "file_extension": ".py",
   "mimetype": "text/x-python",
   "name": "python",
   "nbconvert_exporter": "python",
   "pygments_lexer": "ipython3",
   "version": "3.6.3"
  }
 },
 "nbformat": 4,
 "nbformat_minor": 2
}
