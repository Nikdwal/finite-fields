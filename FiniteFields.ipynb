{
 "cells": [
  {
   "cell_type": "markdown",
   "metadata": {},
   "source": [
    "_____________\n",
    "**Noot**: Het is ten zeerste aangeraden om deze bibliotheek in de [interactieve shell van Python](https://docs.python.org/3/tutorial/interpreter.html#interactive-mode) uit te proberen om de berekeningen mee te volgen.\n",
    "_____________"
   ]
  },
  {
   "cell_type": "markdown",
   "metadata": {},
   "source": [
    "# 1. Eindige velden"
   ]
  },
  {
   "cell_type": "code",
   "execution_count": 1,
   "metadata": {
    "collapsed": true
   },
   "outputs": [],
   "source": [
    "from FiniteField import *\n",
    "from util import *"
   ]
  },
  {
   "cell_type": "markdown",
   "metadata": {},
   "source": [
    "## 1.1 Rekenen modulo $p$"
   ]
  },
  {
   "cell_type": "markdown",
   "metadata": {},
   "source": [
    "We experimenteren eerst binnen het veld $\\mathbb{Z}_5$"
   ]
  },
  {
   "cell_type": "code",
   "execution_count": 2,
   "metadata": {},
   "outputs": [
    {
     "name": "stdout",
     "output_type": "stream",
     "text": [
      "Z5 = [0, 1, 2, 3, 4]\n"
     ]
    }
   ],
   "source": [
    "Z5 = IntegerField(5)\n",
    "print(\"Z5 =\", Z5)"
   ]
  },
  {
   "cell_type": "markdown",
   "metadata": {},
   "source": [
    "Je kunt gewoon itereren over het veld alsof het een lijst zou zijn."
   ]
  },
  {
   "cell_type": "code",
   "execution_count": 3,
   "metadata": {
    "scrolled": false
   },
   "outputs": [
    {
     "data": {
      "text/plain": [
       "5"
      ]
     },
     "execution_count": 3,
     "metadata": {},
     "output_type": "execute_result"
    }
   ],
   "source": [
    "size = 0\n",
    "for elem in Z5:\n",
    "    size += 1\n",
    "    \n",
    "size"
   ]
  },
  {
   "cell_type": "markdown",
   "metadata": {},
   "source": [
    "Let wel op: de elementen van Z5 zijn niet gewoon getallen. Het zijn objecten van het type `FieldElement` die eruit zien als een getal wanneer ze afgedrukt worden. Dat kun je zien op de volgende manier:"
   ]
  },
  {
   "cell_type": "code",
   "execution_count": 4,
   "metadata": {
    "scrolled": true
   },
   "outputs": [
    {
     "name": "stdout",
     "output_type": "stream",
     "text": [
      "<class 'FiniteField.FieldElement'>\n"
     ]
    }
   ],
   "source": [
    "one = Z5.one()\n",
    "print(type(one))"
   ]
  },
  {
   "cell_type": "code",
   "execution_count": 5,
   "metadata": {},
   "outputs": [
    {
     "data": {
      "text/plain": [
       "False"
      ]
     },
     "execution_count": 5,
     "metadata": {},
     "output_type": "execute_result"
    }
   ],
   "source": [
    "isinstance(one, int)"
   ]
  },
  {
   "cell_type": "markdown",
   "metadata": {},
   "source": [
    "Er zijn meerdere manieren om aan deze `FieldElements` zelf te geraken. Een daarvan is de volgende (Python-magie)."
   ]
  },
  {
   "cell_type": "code",
   "execution_count": 6,
   "metadata": {
    "scrolled": true
   },
   "outputs": [
    {
     "name": "stdout",
     "output_type": "stream",
     "text": [
      "1 3\n"
     ]
    }
   ],
   "source": [
    "zero, one, two, three, four = Z5\n",
    "print(one, three)"
   ]
  },
  {
   "cell_type": "markdown",
   "metadata": {},
   "source": [
    "De meest interessante manier is wellicht met gewone indexering. Daaraan geef je de voorstelling van een element mee (wat je ziet als je het element afdrukt, dus een `int` of een `str`) en dan krijg je het overeenkomstige `FieldElement` terug. Je mag zowel een singleton als een lijst als een matrix meegeven."
   ]
  },
  {
   "cell_type": "code",
   "execution_count": 7,
   "metadata": {},
   "outputs": [
    {
     "name": "stdout",
     "output_type": "stream",
     "text": [
      "1 2 3 4\n"
     ]
    },
    {
     "data": {
      "text/plain": [
       "False"
      ]
     },
     "execution_count": 7,
     "metadata": {},
     "output_type": "execute_result"
    }
   ],
   "source": [
    "one = Z5[1]\n",
    "two, three, four = Z5[2,3,4]\n",
    "\n",
    "print(one, two, three, four)\n",
    "any([type(elem) is int for elem in (one, two, three, four)])"
   ]
  },
  {
   "cell_type": "markdown",
   "metadata": {},
   "source": [
    "Je kunt wel met de elementen modulorekenen alsof het getallen waren. (Hier: modulo 5)"
   ]
  },
  {
   "cell_type": "code",
   "execution_count": 8,
   "metadata": {},
   "outputs": [
    {
     "data": {
      "text/plain": [
       "3"
      ]
     },
     "execution_count": 8,
     "metadata": {},
     "output_type": "execute_result"
    }
   ],
   "source": [
    "one + two"
   ]
  },
  {
   "cell_type": "code",
   "execution_count": 9,
   "metadata": {},
   "outputs": [
    {
     "data": {
      "text/plain": [
       "2"
      ]
     },
     "execution_count": 9,
     "metadata": {},
     "output_type": "execute_result"
    }
   ],
   "source": [
    "three * four"
   ]
  },
  {
   "cell_type": "code",
   "execution_count": 10,
   "metadata": {},
   "outputs": [
    {
     "data": {
      "text/plain": [
       "4"
      ]
     },
     "execution_count": 10,
     "metadata": {},
     "output_type": "execute_result"
    }
   ],
   "source": [
    "two / three"
   ]
  },
  {
   "cell_type": "code",
   "execution_count": 11,
   "metadata": {},
   "outputs": [
    {
     "data": {
      "text/plain": [
       "4"
      ]
     },
     "execution_count": 11,
     "metadata": {},
     "output_type": "execute_result"
    }
   ],
   "source": [
    "three ** 2"
   ]
  },
  {
   "cell_type": "markdown",
   "metadata": {},
   "source": [
    "Typecasts gebeuren automatisch, zolang een van de termen een `FieldElem` is. Dan is het resultaat terug een `FieldElem`."
   ]
  },
  {
   "cell_type": "code",
   "execution_count": 12,
   "metadata": {},
   "outputs": [
    {
     "data": {
      "text/plain": [
       "4"
      ]
     },
     "execution_count": 12,
     "metadata": {},
     "output_type": "execute_result"
    }
   ],
   "source": [
    "three + 1"
   ]
  },
  {
   "cell_type": "markdown",
   "metadata": {},
   "source": [
    "Vermenigvuldiging en deling worden efficient uitgevoerd omdat we een generator hebben."
   ]
  },
  {
   "cell_type": "code",
   "execution_count": 13,
   "metadata": {},
   "outputs": [
    {
     "data": {
      "text/plain": [
       "2"
      ]
     },
     "execution_count": 13,
     "metadata": {},
     "output_type": "execute_result"
    }
   ],
   "source": [
    "Z5.generator()"
   ]
  },
  {
   "cell_type": "code",
   "execution_count": 14,
   "metadata": {},
   "outputs": [
    {
     "name": "stdout",
     "output_type": "stream",
     "text": [
      "2⁰ = 1\n",
      "2¹ = 2\n",
      "2² = 4\n",
      "2³ = 3\n",
      "2⁴ = 1\n"
     ]
    }
   ],
   "source": [
    "# eerst even een functie definieren om exponenten te printen\n",
    "def printpow(base, exponent):\n",
    "    superscript = str.maketrans(\"0123456789\", \"⁰¹²³⁴⁵⁶⁷⁸⁹\")\n",
    "    return str(base) + str(exponent).translate(superscript)\n",
    "\n",
    "g = Z5.generator()\n",
    "for i in range(len(Z5)):\n",
    "    print(printpow(g,i), \"=\", Z5.generator_to_power(i))"
   ]
  },
  {
   "cell_type": "markdown",
   "metadata": {},
   "source": [
    "Of omgekeerd: de exponent opzoeken met de `generator_exponent`-methode:"
   ]
  },
  {
   "cell_type": "code",
   "execution_count": 15,
   "metadata": {},
   "outputs": [
    {
     "name": "stdout",
     "output_type": "stream",
     "text": [
      "1 = 2⁰\n",
      "2 = 2¹\n",
      "3 = 2³\n",
      "4 = 2²\n"
     ]
    }
   ],
   "source": [
    "for elem in Z5:\n",
    "    if not elem.is_zero():\n",
    "        print(elem, \"=\", printpow(g,Z5.generator_exponent(elem)))"
   ]
  },
  {
   "cell_type": "markdown",
   "metadata": {},
   "source": [
    "## 1.2 Veeltermen"
   ]
  },
  {
   "cell_type": "markdown",
   "metadata": {},
   "source": [
    "We kunnen ook veeltermen definieren. Er zijn meerdere manieren om dat te doen:"
   ]
  },
  {
   "cell_type": "markdown",
   "metadata": {},
   "source": [
    "1) Met een lijst van coefficienten (`FieldElem`s)"
   ]
  },
  {
   "cell_type": "code",
   "execution_count": 16,
   "metadata": {},
   "outputs": [
    {
     "data": {
      "text/plain": [
       "2 + 3x + 4x² + x³"
      ]
     },
     "execution_count": 16,
     "metadata": {},
     "output_type": "execute_result"
    }
   ],
   "source": [
    "Polynomial(Z5[2,3,4,1]) "
   ]
  },
  {
   "cell_type": "markdown",
   "metadata": {},
   "source": [
    "2) Met syntactische suiker"
   ]
  },
  {
   "cell_type": "code",
   "execution_count": 17,
   "metadata": {},
   "outputs": [
    {
     "data": {
      "text/plain": [
       "1 + x + 3x²"
      ]
     },
     "execution_count": 17,
     "metadata": {},
     "output_type": "execute_result"
    }
   ],
   "source": [
    "# x is hier een formele veelterm over Z5\n",
    "# Zo weet de vertolker dat het geheel ook een veelterm over Z5 is.\n",
    "x = Z5.x()\n",
    "1 + x + 3 * x**2"
   ]
  },
  {
   "cell_type": "markdown",
   "metadata": {},
   "source": [
    "De veeltermen hebben hun eigen algebra:"
   ]
  },
  {
   "cell_type": "code",
   "execution_count": 18,
   "metadata": {},
   "outputs": [
    {
     "name": "stdout",
     "output_type": "stream",
     "text": [
      "1 + x²\n",
      "2 + 2x\n",
      "x⁵ + x⁷\n",
      "4 + 4x\n",
      "2 + 2x + 2x² + 2x³\n",
      "2 + 3x\n",
      "2\n"
     ]
    }
   ],
   "source": [
    "f = 1 + x**2\n",
    "g = 2 * (x + 1)\n",
    "print(f)\n",
    "print(g)\n",
    "print(f.multiply_x_to_power(5))\n",
    "print(two * g)\n",
    "print(f * g)\n",
    "print(f // g) # deling waarbij de rest genegeerd wordt\n",
    "print(f % g)"
   ]
  },
  {
   "cell_type": "markdown",
   "metadata": {},
   "source": [
    "Gehele deling is altijd gedefinieerd, maar let erop dat er een verschil is tussen \"`/`\" en \"`//`\". Niet alle veeltermen kunnen met \"`/`\" door elkaar gedeeld worden."
   ]
  },
  {
   "cell_type": "code",
   "execution_count": 19,
   "metadata": {
    "scrolled": true
   },
   "outputs": [
    {
     "name": "stdout",
     "output_type": "stream",
     "text": [
      "Cannot divide these two polynomials. The remainder is non-zero.\n"
     ]
    }
   ],
   "source": [
    "try:\n",
    "    f / g\n",
    "except ValueError as e:\n",
    "    print(e)"
   ]
  },
  {
   "cell_type": "markdown",
   "metadata": {},
   "source": [
    "Toepassen op een element is zoals je zou verwachten:"
   ]
  },
  {
   "cell_type": "code",
   "execution_count": 20,
   "metadata": {
    "scrolled": true
   },
   "outputs": [
    {
     "data": {
      "text/plain": [
       "2"
      ]
     },
     "execution_count": 20,
     "metadata": {},
     "output_type": "execute_result"
    }
   ],
   "source": [
    "f(one)"
   ]
  },
  {
   "cell_type": "markdown",
   "metadata": {},
   "source": [
    "Iets gevaarlijker, maar in evenzeer mogelijk:"
   ]
  },
  {
   "cell_type": "code",
   "execution_count": 21,
   "metadata": {},
   "outputs": [
    {
     "data": {
      "text/plain": [
       "2"
      ]
     },
     "execution_count": 21,
     "metadata": {},
     "output_type": "execute_result"
    }
   ],
   "source": [
    "f(1)"
   ]
  },
  {
   "cell_type": "markdown",
   "metadata": {},
   "source": [
    "Nulpunten en factorisatie:"
   ]
  },
  {
   "cell_type": "code",
   "execution_count": 22,
   "metadata": {},
   "outputs": [
    {
     "name": "stdout",
     "output_type": "stream",
     "text": [
      "2, 3, "
     ]
    }
   ],
   "source": [
    "for root in f.find_roots():\n",
    "    print(root, end=\", \")"
   ]
  },
  {
   "cell_type": "code",
   "execution_count": 23,
   "metadata": {},
   "outputs": [
    {
     "name": "stdout",
     "output_type": "stream",
     "text": [
      "[2 + x, 3 + x]\n",
      "True\n"
     ]
    }
   ],
   "source": [
    "factors = f.factor()\n",
    "print(factors)\n",
    "print(product(factors) == f)"
   ]
  },
  {
   "cell_type": "code",
   "execution_count": 24,
   "metadata": {},
   "outputs": [
    {
     "data": {
      "text/plain": [
       "True"
      ]
     },
     "execution_count": 24,
     "metadata": {},
     "output_type": "execute_result"
    }
   ],
   "source": [
    "f.is_reducible()"
   ]
  },
  {
   "cell_type": "markdown",
   "metadata": {},
   "source": [
    "Wat informatie over de coefficienten:"
   ]
  },
  {
   "cell_type": "code",
   "execution_count": 25,
   "metadata": {},
   "outputs": [
    {
     "name": "stdout",
     "output_type": "stream",
     "text": [
      "1, 0, 1, "
     ]
    }
   ],
   "source": [
    "for coef in f:\n",
    "    print(coef, end=\", \")"
   ]
  },
  {
   "cell_type": "markdown",
   "metadata": {},
   "source": [
    "Wat op hetzelfde neerkomt als"
   ]
  },
  {
   "cell_type": "code",
   "execution_count": 26,
   "metadata": {
    "scrolled": true
   },
   "outputs": [
    {
     "name": "stdout",
     "output_type": "stream",
     "text": [
      "1, 0, 1, "
     ]
    }
   ],
   "source": [
    "for i in range(len(f)):\n",
    "    print(f[i], end=\", \")"
   ]
  },
  {
   "cell_type": "code",
   "execution_count": 27,
   "metadata": {},
   "outputs": [
    {
     "data": {
      "text/plain": [
       "(3, 2)"
      ]
     },
     "execution_count": 27,
     "metadata": {},
     "output_type": "execute_result"
    }
   ],
   "source": [
    "len(f), f.degree()"
   ]
  },
  {
   "cell_type": "markdown",
   "metadata": {},
   "source": [
    "## 1.3 Uitbreidingsvelden"
   ]
  },
  {
   "cell_type": "markdown",
   "metadata": {},
   "source": [
    "We zoeken een primitieve veelterm $w(x)$ van graad 2 in $\\mathbb{Z}_2[x]$ om het uitbreidingsveld $GF(2^2) = GF(4) \\cong \\mathbb{Z}_2[x]|_{w(x)}$ te construeren."
   ]
  },
  {
   "cell_type": "code",
   "execution_count": 28,
   "metadata": {},
   "outputs": [
    {
     "name": "stdout",
     "output_type": "stream",
     "text": [
      "w(x) = 1 + x + x²\n"
     ]
    }
   ],
   "source": [
    "Z2 = IntegerField(2)\n",
    "w = Z2.find_primitive_polynomial(2)\n",
    "print(\"w(x) =\", w)"
   ]
  },
  {
   "cell_type": "markdown",
   "metadata": {},
   "source": [
    "Als we een nulpunt $\\xi$ van deze veelterm $w(x)$ aan het veld $\\mathbb{Z}_2$ zouden toevoegen, dan zouden de machten van $\\xi$ de cyclische groep $<\\mathbb{Z}_2[x]|_{w(x)} \\setminus \\{0\\}, \\cdot>\\ \\cong\\ <\\mathbb{Z}_2\\left(\\xi\\right) \\setminus \\{0\\}, \\cdot>$ moeten genereren. We kijken of alle veeltermen in $\\xi$ (behalve 0) van graad kleiner dan 2 inderdaad op die manier gegenereerd worden."
   ]
  },
  {
   "cell_type": "code",
   "execution_count": 29,
   "metadata": {},
   "outputs": [
    {
     "name": "stdout",
     "output_type": "stream",
     "text": [
      "ξ⁰ = 1\n",
      "ξ¹ = ξ\n",
      "ξ² = 1 + ξ\n"
     ]
    }
   ],
   "source": [
    "q, k = len(Z2), w.degree()\n",
    "xi = Z2.x()\n",
    "xi_to_power_i = 1\n",
    "for i in range(q ** k - 1):\n",
    "    print(printpow(\"ξ\", i), \"=\", str(xi_to_power_i).replace(\"x\", \"ξ\"))\n",
    "    xi_to_power_i = (xi * xi_to_power_i) % w"
   ]
  },
  {
   "cell_type": "markdown",
   "metadata": {},
   "source": [
    "We zien dat $\\xi$ inderdaad een primitief element is, want alle mogelijke veeltermen van graad 0 en graad 1 in $\\xi$ (behalve de nulveelterm) zijn een macht van $\\xi$."
   ]
  },
  {
   "cell_type": "markdown",
   "metadata": {},
   "source": [
    "Hiermee kunnen we dus een uitbreidingsveld $GF(2^2) = GF(4)$ construeren."
   ]
  },
  {
   "cell_type": "code",
   "execution_count": 30,
   "metadata": {
    "scrolled": true
   },
   "outputs": [
    {
     "data": {
      "text/plain": [
       "[0, 1, ξ, 1 + ξ]"
      ]
     },
     "execution_count": 30,
     "metadata": {},
     "output_type": "execute_result"
    }
   ],
   "source": [
    "# Argumenten: het oorspronkelijke veld, de graad van de veelterm, de letter waarmee je\n",
    "# het primitieve element wil voorstellen, en de veelterm zelf.\n",
    "GF4 = ExtendedField(Z2, 2, \"ξ\", w)\n",
    "# of alternatief: als we w nog niet hadden, kunnen we die nu laten berekenen met\n",
    "# >>> GF4 = ExtendedField(Z2, 2, \"ξ\")\n",
    "GF4"
   ]
  },
  {
   "cell_type": "markdown",
   "metadata": {},
   "source": [
    "Samengevat: indien je bijvoorbeeld een veld $\\mathbb{Z}_2$ hebt, en dit moet uitbreiden naar $GF(4)$, met het primitief element $\\xi$ waarvoor $\\xi^2 = \\xi + 1 \\Leftrightarrow \\xi^2 -\\xi - 1 = 0$, dan kun je voor $w$ de veelterm $x^2 - x - 1$ definieren. Daarmee maak je dan het uitbreidingsveld `ExtendedField(Z2, 2, \"ξ\", w)`."
   ]
  },
  {
   "cell_type": "markdown",
   "metadata": {},
   "source": [
    "We kunnen in dit nieuwe veld opnieuw rekenen"
   ]
  },
  {
   "cell_type": "code",
   "execution_count": 31,
   "metadata": {
    "scrolled": false
   },
   "outputs": [
    {
     "name": "stdout",
     "output_type": "stream",
     "text": [
      "1\n",
      "ξ\n",
      "1 + ξ\n",
      "1\n"
     ]
    }
   ],
   "source": [
    "xi = GF4.generator()\n",
    "for i in range(len(GF4)):\n",
    "    print(xi ** i)"
   ]
  },
  {
   "cell_type": "markdown",
   "metadata": {},
   "source": [
    "Zoals je kunt zien is de indexering zeer versatiel: je kunt zowel getallen als strings meegeven."
   ]
  },
  {
   "cell_type": "code",
   "execution_count": 32,
   "metadata": {
    "scrolled": true
   },
   "outputs": [
    {
     "data": {
      "text/plain": [
       "(1, ξ, 1 + ξ)"
      ]
     },
     "execution_count": 32,
     "metadata": {},
     "output_type": "execute_result"
    }
   ],
   "source": [
    "GF4[1,\"ξ\", \"1 + ξ\"]"
   ]
  },
  {
   "cell_type": "markdown",
   "metadata": {},
   "source": [
    "We kunnen dit veld natuurlijk nog eens uitbreiden tot $GF(4^2) = GF(16)$."
   ]
  },
  {
   "cell_type": "code",
   "execution_count": 33,
   "metadata": {
    "scrolled": false
   },
   "outputs": [
    {
     "data": {
      "text/plain": [
       "[0, 1, φ, ξ + φ, ξ + (1 + ξ)φ, 1 + φ, ξ, ξφ, 1 + ξ + ξφ, 1 + ξ + φ, ξ + ξφ, 1 + ξ, (1 + ξ)φ, 1 + (1 + ξ)φ, 1 + ξφ, 1 + ξ + (1 + ξ)φ]"
      ]
     },
     "execution_count": 33,
     "metadata": {},
     "output_type": "execute_result"
    }
   ],
   "source": [
    "ExtendedField(GF4, 2, greek_alphabet[21])"
   ]
  },
  {
   "cell_type": "markdown",
   "metadata": {},
   "source": [
    "## 1.4 Typecasts en promoties"
   ]
  },
  {
   "cell_type": "markdown",
   "metadata": {},
   "source": [
    "Zoals eerder gezien, gebeuren er automatisch allerhande typecasts. Bijvoorbeeld wanneer je een element van $GF(2)$ optelt bij een element van $GF(4)$:"
   ]
  },
  {
   "cell_type": "code",
   "execution_count": 34,
   "metadata": {},
   "outputs": [
    {
     "name": "stdout",
     "output_type": "stream",
     "text": [
      "one_gf2 ∈ [0, 1]\n",
      "one_gf4 ∈ [0, 1, ξ, 1 + ξ]\n",
      "1 + 1   ∈ [0, 1, ξ, 1 + ξ]\n"
     ]
    }
   ],
   "source": [
    "one_gf2 = Z2[1]\n",
    "one_gf4 = GF4[1]\n",
    "print(\"one_gf2 ∈\", one_gf2.field)\n",
    "print(\"one_gf4 ∈\", one_gf4.field)\n",
    "print(\"1 + 1   ∈\", (one_gf2 + one_gf4).field)"
   ]
  },
  {
   "cell_type": "markdown",
   "metadata": {},
   "source": [
    "De som van een element uit een veld en een ander element uit een uitbreidingsveld wordt dus automatisch gepromoveerd tot een element van dat uitbreidingsveld, of het resultaat nu in het kleinere veld ligt of niet. Dit is vergelijkbaar met het promoveren van `int`s naar `float`s:"
   ]
  },
  {
   "cell_type": "code",
   "execution_count": 35,
   "metadata": {},
   "outputs": [
    {
     "data": {
      "text/plain": [
       "2.0"
      ]
     },
     "execution_count": 35,
     "metadata": {},
     "output_type": "execute_result"
    }
   ],
   "source": [
    "1 + 1.0"
   ]
  },
  {
   "cell_type": "markdown",
   "metadata": {},
   "source": [
    "Zo kun je ook een veeterm uit $GF(2)$ toepassen op een element van $GF(4)$ of omgekeerd. "
   ]
  },
  {
   "cell_type": "code",
   "execution_count": 36,
   "metadata": {
    "scrolled": true
   },
   "outputs": [
    {
     "data": {
      "text/plain": [
       "ξ"
      ]
     },
     "execution_count": 36,
     "metadata": {},
     "output_type": "execute_result"
    }
   ],
   "source": [
    "x = Z2.x()\n",
    "f = 1 + x + x**3\n",
    "f(GF4[\"ξ\"])"
   ]
  },
  {
   "cell_type": "markdown",
   "metadata": {},
   "source": [
    "Let erop dat bepaalde syntactische suiker niet altijd werkt. Zo is het volgende onomgelijk."
   ]
  },
  {
   "cell_type": "code",
   "execution_count": 37,
   "metadata": {
    "scrolled": false
   },
   "outputs": [
    {
     "name": "stdout",
     "output_type": "stream",
     "text": [
      "Error. Cannot compute the given expression.\n"
     ]
    }
   ],
   "source": [
    "try:\n",
    "    print(f(\"ξ\"))\n",
    "except Exception:\n",
    "    print(\"Error. Cannot compute the given expression.\")"
   ]
  },
  {
   "cell_type": "markdown",
   "metadata": {},
   "source": [
    "Omdat, voor zover $\\mathbb{Z}_2$ en $f(x)$ (gedefineerd over $\\mathbb{Z}_2$) weten, het element $\\xi$ helemaal niet bestaat."
   ]
  },
  {
   "cell_type": "markdown",
   "metadata": {},
   "source": [
    "Wat wel kan, is het volgende:"
   ]
  },
  {
   "cell_type": "code",
   "execution_count": 38,
   "metadata": {},
   "outputs": [
    {
     "data": {
      "text/plain": [
       "ξ"
      ]
     },
     "execution_count": 38,
     "metadata": {},
     "output_type": "execute_result"
    }
   ],
   "source": [
    "f(GF4[\"ξ\"])"
   ]
  },
  {
   "cell_type": "markdown",
   "metadata": {},
   "source": [
    "De vertolker weet immers dat `GF4[\"ξ\"]` tot `GF4` behoort. Deze zal `f` dus eerst promoveren tot een veelterm over `GF4`, en dan op $\\xi$ toepassen.\n",
    "\n",
    "De eerste notatie zou wel gebruikt kunnen worden als $f(x)$ gedefineerd was over $GF(4)$."
   ]
  },
  {
   "cell_type": "code",
   "execution_count": 39,
   "metadata": {},
   "outputs": [
    {
     "data": {
      "text/plain": [
       "ξ"
      ]
     },
     "execution_count": 39,
     "metadata": {},
     "output_type": "execute_result"
    }
   ],
   "source": [
    "g = f.cast_to_field(GF4)\n",
    "g(\"ξ\")"
   ]
  },
  {
   "cell_type": "markdown",
   "metadata": {},
   "source": [
    "Als je zeker wil zijn dat je het juiste element aanspreekt (zoals in het voorbeeld hierboven), gebruik je best de notatie `GF4[\"ξ\"]` om het element $\\xi$ voor te stellen. Je kunt $\\xi$ natuurlijk ook opslaan in een variabele:\n",
    "`xi = GF4[\"ξ\"]`. Syntactische suiker is dan ook volledig optioneel."
   ]
  },
  {
   "cell_type": "markdown",
   "metadata": {},
   "source": [
    "Als je niet meer zeker bent over het type, dan kun je altijd `type` en/of `field` gebruiken."
   ]
  },
  {
   "cell_type": "code",
   "execution_count": 40,
   "metadata": {
    "scrolled": true
   },
   "outputs": [
    {
     "name": "stdout",
     "output_type": "stream",
     "text": [
      "type  = <class 'FiniteField.FieldElement'> \n",
      "field = [0, 1, ξ, 1 + ξ]\n"
     ]
    }
   ],
   "source": [
    "xi = GF4[\"ξ\"]\n",
    "print(\"type  =\", type(xi), \"\\nfield =\", xi.field)"
   ]
  },
  {
   "cell_type": "markdown",
   "metadata": {},
   "source": [
    "Over het algemeen werken de meeste notaties die je zou verwachten. Werken die niet, dan gebruik je `FieldElem`s zoals hierboven aangeven."
   ]
  },
  {
   "cell_type": "markdown",
   "metadata": {},
   "source": [
    "## 1.5 Factorisatie van $x^n - 1$"
   ]
  },
  {
   "cell_type": "markdown",
   "metadata": {},
   "source": [
    "We vertrekken met de volgende veelterm in $GF(4)[x]$. Merk op dat aagezien $-1 = 1 \\text{ (mod 2)}$, deze veelterm ook uitgedrukt kan worden als $x^n + 1$"
   ]
  },
  {
   "cell_type": "code",
   "execution_count": 41,
   "metadata": {},
   "outputs": [
    {
     "data": {
      "text/plain": [
       "1 + x⁵"
      ]
     },
     "execution_count": 41,
     "metadata": {},
     "output_type": "execute_result"
    }
   ],
   "source": [
    "n = 5\n",
    "x = GF4.x()\n",
    "p = x ** n - 1\n",
    "p"
   ]
  },
  {
   "cell_type": "markdown",
   "metadata": {},
   "source": [
    "We hebben nood aan een uitbreidingsveld $GF(4^k)$ waarin we een element $\\beta$ kunnen vinden dat een primitieve $n$-de wortel uit 1 is. $k$ is hierbij het kleinste getal waarvoor $4^k = 1 \\text{ (mod } n \\text{)}$"
   ]
  },
  {
   "cell_type": "code",
   "execution_count": 42,
   "metadata": {},
   "outputs": [
    {
     "name": "stdout",
     "output_type": "stream",
     "text": [
      "β = ξ + (1 + ξ)α \n",
      "k = 2\n"
     ]
    }
   ],
   "source": [
    "beta = GF4.nth_root_of_unity(n)\n",
    "GF4k = beta.field\n",
    "k = GF4k.divisor.degree() # de graad van de veelterm die gebruikt is om GF(4^k) te construeren\n",
    "print(\"β =\",beta, \"\\nk =\", k)"
   ]
  },
  {
   "cell_type": "markdown",
   "metadata": {},
   "source": [
    "We zien dat $\\beta$ niet in $GF(4)$ gelegen is, maar in $GF(4^k)$. Volgens de theorie zijn alle machten van $\\beta$ een oplossing van $p$."
   ]
  },
  {
   "cell_type": "code",
   "execution_count": 43,
   "metadata": {},
   "outputs": [
    {
     "data": {
      "text/plain": [
       "True"
      ]
     },
     "execution_count": 43,
     "metadata": {},
     "output_type": "execute_result"
    }
   ],
   "source": [
    "all([p(beta ** i).is_zero() for i in range(n+1)])"
   ]
  },
  {
   "cell_type": "markdown",
   "metadata": {},
   "source": [
    "We bepalen de factorisatie met behulp van de cyclotomische nevenklassen modulo $n$ over $GF(4)$."
   ]
  },
  {
   "cell_type": "code",
   "execution_count": 44,
   "metadata": {},
   "outputs": [
    {
     "data": {
      "text/plain": [
       "[[0], [1, 4], [2, 3]]"
      ]
     },
     "execution_count": 44,
     "metadata": {},
     "output_type": "execute_result"
    }
   ],
   "source": [
    "cyclotomic_cosets(4, n)"
   ]
  },
  {
   "cell_type": "markdown",
   "metadata": {},
   "source": [
    "Als we deze machten van $\\beta$ combineren, hebben we een factorisatie van $x^n - 1$ over $GF(4)$."
   ]
  },
  {
   "cell_type": "code",
   "execution_count": 45,
   "metadata": {},
   "outputs": [
    {
     "name": "stdout",
     "output_type": "stream",
     "text": [
      "1 + x\n",
      "1 + (1 + ξ)x + x²\n",
      "1 + ξx + x²\n"
     ]
    }
   ],
   "source": [
    "factors = GF4.factor_nth_root(n)\n",
    "for factor in factors:\n",
    "    print(factor)"
   ]
  },
  {
   "cell_type": "markdown",
   "metadata": {},
   "source": [
    "En inderdaad:"
   ]
  },
  {
   "cell_type": "code",
   "execution_count": 46,
   "metadata": {},
   "outputs": [
    {
     "data": {
      "text/plain": [
       "True"
      ]
     },
     "execution_count": 46,
     "metadata": {},
     "output_type": "execute_result"
    }
   ],
   "source": [
    "product(factors) == p"
   ]
  },
  {
   "cell_type": "markdown",
   "metadata": {},
   "source": [
    "# 2. Codetheorie"
   ]
  },
  {
   "cell_type": "markdown",
   "metadata": {},
   "source": [
    "## 2.1 Lineaire algebra"
   ]
  },
  {
   "cell_type": "code",
   "execution_count": 2,
   "metadata": {
    "collapsed": true
   },
   "outputs": [],
   "source": [
    "from LinearAlgebra import *"
   ]
  },
  {
   "cell_type": "markdown",
   "metadata": {},
   "source": [
    "Vectoren en matrices zijn vanzelfsprekend zodra je in eindige velden kunt werken."
   ]
  },
  {
   "cell_type": "code",
   "execution_count": 3,
   "metadata": {
    "collapsed": true
   },
   "outputs": [],
   "source": [
    "Z3 = IntegerField(3)"
   ]
  },
  {
   "cell_type": "code",
   "execution_count": 4,
   "metadata": {},
   "outputs": [
    {
     "data": {
      "text/plain": [
       "[1, 1, 0, 2, 1]"
      ]
     },
     "execution_count": 4,
     "metadata": {},
     "output_type": "execute_result"
    }
   ],
   "source": [
    "v = Vector(Z3[1,2,0,2,0])\n",
    "w = Vector(Z3[0,2,0,0,1])\n",
    "v + w"
   ]
  },
  {
   "cell_type": "code",
   "execution_count": 5,
   "metadata": {},
   "outputs": [
    {
     "data": {
      "text/plain": [
       "[0, 1, 0, 0, 2]"
      ]
     },
     "execution_count": 5,
     "metadata": {},
     "output_type": "execute_result"
    }
   ],
   "source": [
    "2 * w"
   ]
  },
  {
   "cell_type": "markdown",
   "metadata": {},
   "source": [
    "Indexatie en iteratie:"
   ]
  },
  {
   "cell_type": "code",
   "execution_count": 6,
   "metadata": {},
   "outputs": [
    {
     "name": "stdout",
     "output_type": "stream",
     "text": [
      "1, 2, 0, 2, 0, "
     ]
    }
   ],
   "source": [
    "for i in range(len(v)):\n",
    "    print(v[i], end=\", \")"
   ]
  },
  {
   "cell_type": "code",
   "execution_count": 7,
   "metadata": {},
   "outputs": [
    {
     "name": "stdout",
     "output_type": "stream",
     "text": [
      "1, 2, 0, 2, 0, "
     ]
    }
   ],
   "source": [
    "for component in v:\n",
    "    print(component, end=\", \")"
   ]
  },
  {
   "cell_type": "code",
   "execution_count": 8,
   "metadata": {},
   "outputs": [
    {
     "data": {
      "text/plain": [
       "[1, 2, 0, 2, 0]"
      ]
     },
     "execution_count": 8,
     "metadata": {},
     "output_type": "execute_result"
    }
   ],
   "source": [
    "v.get_elems()"
   ]
  },
  {
   "cell_type": "markdown",
   "metadata": {},
   "source": [
    "De matrices zijn ook van de partij:"
   ]
  },
  {
   "cell_type": "code",
   "execution_count": 9,
   "metadata": {
    "scrolled": false
   },
   "outputs": [
    {
     "name": "stdout",
     "output_type": "stream",
     "text": [
      "[2, 2]\n",
      "[2, 1]\n",
      "\n"
     ]
    }
   ],
   "source": [
    "A = Matrix(Z3[[1,2],[2,0]])\n",
    "print(A * A.transpose())"
   ]
  },
  {
   "cell_type": "code",
   "execution_count": 10,
   "metadata": {
    "scrolled": true
   },
   "outputs": [
    {
     "name": "stdout",
     "output_type": "stream",
     "text": [
      "[1, 2]\n",
      "[2, 0]\n"
     ]
    }
   ],
   "source": [
    "for row in A:\n",
    "    # elke rij is gewoon een lijst, geen vector\n",
    "    print(row)"
   ]
  },
  {
   "cell_type": "markdown",
   "metadata": {},
   "source": [
    "Vectoren zijn hier rijmatrices, geen kolommatrices. Dat is van belang voor de vermenigvuldiging."
   ]
  },
  {
   "cell_type": "code",
   "execution_count": 11,
   "metadata": {},
   "outputs": [
    {
     "name": "stdout",
     "output_type": "stream",
     "text": [
      "Je moest de volgorde omkeren om te vermenigvuldigen. v.A = [2, 0]\n"
     ]
    }
   ],
   "source": [
    "v = Vector(Z3[0,1])\n",
    "try:\n",
    "    print(A * v)\n",
    "except Exception:\n",
    "    print(\"Je moest de volgorde omkeren om te vermenigvuldigen. v.A =\", v * A)"
   ]
  },
  {
   "cell_type": "markdown",
   "metadata": {
    "collapsed": true
   },
   "source": [
    "Verder nog enkele courante bewerkingen in verband met stelsels:"
   ]
  },
  {
   "cell_type": "code",
   "execution_count": 12,
   "metadata": {
    "scrolled": true
   },
   "outputs": [
    {
     "data": {
      "text/plain": [
       "[1, 1, 2]\n",
       "[0, 2, 0]\n",
       "[0, 0, 2]"
      ]
     },
     "execution_count": 12,
     "metadata": {},
     "output_type": "execute_result"
    }
   ],
   "source": [
    "A = Matrix(Z3[[1,1,2],[1,0,2],[1,2,1]])\n",
    "A.echelon_form()\n",
    "# De andere variant A.to_echelon_from() is in-place en wijzigt A zonder iets terug te geven"
   ]
  },
  {
   "cell_type": "code",
   "execution_count": 13,
   "metadata": {
    "scrolled": true
   },
   "outputs": [
    {
     "data": {
      "text/plain": [
       "False"
      ]
     },
     "execution_count": 13,
     "metadata": {},
     "output_type": "execute_result"
    }
   ],
   "source": [
    "A.is_singular()"
   ]
  },
  {
   "cell_type": "markdown",
   "metadata": {},
   "source": [
    "De elementaire rijoperaties"
   ]
  },
  {
   "cell_type": "code",
   "execution_count": 14,
   "metadata": {},
   "outputs": [
    {
     "name": "stdout",
     "output_type": "stream",
     "text": [
      "[1, 1, 2]\n",
      "[1, 0, 2]\n",
      "[1, 2, 1]\n",
      " \n",
      "R_0 <-> R_1\n",
      "[1, 0, 2]\n",
      "[1, 1, 2]\n",
      "[1, 2, 1]\n",
      " \n",
      "R_0 -> 2*R_0\n",
      "[2, 0, 1]\n",
      "[1, 1, 2]\n",
      "[1, 2, 1]\n",
      " \n",
      "R0 -> R_0 + 2*R_1\n",
      "[1, 2, 2]\n",
      "[1, 1, 2]\n",
      "[1, 2, 1]\n",
      "\n"
     ]
    }
   ],
   "source": [
    "print(A,\"\\nR_0 <-> R_1\")\n",
    "A.rowswap(0,1)\n",
    "print(A, \"\\nR_0 -> 2*R_0\")\n",
    "A.rowmul(0, Z3[2])\n",
    "print(A, \"\\nR0 -> R_0 + 2*R_1\")\n",
    "A.add_multiple_of_row(0, 1, 2)\n",
    "print(A)"
   ]
  },
  {
   "cell_type": "markdown",
   "metadata": {},
   "source": [
    "Het stelsel $Ax^T = b^T$ met $x$ en $b$ rijvectoren."
   ]
  },
  {
   "cell_type": "code",
   "execution_count": 15,
   "metadata": {},
   "outputs": [
    {
     "data": {
      "text/plain": [
       "[1, 2, 1]"
      ]
     },
     "execution_count": 15,
     "metadata": {},
     "output_type": "execute_result"
    }
   ],
   "source": [
    "b = Vector(Z3[1,2,0])\n",
    "x = A.solve(b)\n",
    "x"
   ]
  },
  {
   "cell_type": "code",
   "execution_count": 16,
   "metadata": {},
   "outputs": [
    {
     "data": {
      "text/plain": [
       "True"
      ]
     },
     "execution_count": 16,
     "metadata": {},
     "output_type": "execute_result"
    }
   ],
   "source": [
    "X = Matrix.from_vector(x).transpose()\n",
    "B = Matrix.from_vector(b).transpose()\n",
    "\n",
    "A * X == B"
   ]
  },
  {
   "cell_type": "markdown",
   "metadata": {},
   "source": [
    "Deze matrix $H$ is natuurlijk niet uniek: door elementaire rijoperaties toe te passen heb je een nieuwe matrix die ook een oplossing zou kunnen zijn."
   ]
  },
  {
   "cell_type": "markdown",
   "metadata": {},
   "source": [
    "## 2.2 Lineaire blokcodes"
   ]
  },
  {
   "cell_type": "code",
   "execution_count": 3,
   "metadata": {},
   "outputs": [],
   "source": [
    "from Code import *"
   ]
  },
  {
   "cell_type": "markdown",
   "metadata": {},
   "source": [
    "Beschouw een (8,3)-code $\\mathbb{C}$ over $GF(3)$, met een generatormatrix $G$."
   ]
  },
  {
   "cell_type": "code",
   "execution_count": 4,
   "metadata": {},
   "outputs": [
    {
     "data": {
      "text/plain": [
       "[2, 0, 1, 1, 2, 1, 0, 0]\n",
       "[0, 2, 0, 1, 1, 2, 1, 0]\n",
       "[0, 0, 2, 0, 1, 1, 2, 1]"
      ]
     },
     "execution_count": 4,
     "metadata": {},
     "output_type": "execute_result"
    }
   ],
   "source": [
    "GF3 = IntegerField(3)\n",
    "G = Matrix(GF3[[2,0,1,1,2,1,0,0],[0,2,0,1,1,2,1,0],[0,0,2,0,1,1,2,1]])\n",
    "G"
   ]
  },
  {
   "cell_type": "markdown",
   "metadata": {},
   "source": [
    "Hiermee kunnen we een informatiewoord $i \\in GF(3)^3$ encoderen."
   ]
  },
  {
   "cell_type": "code",
   "execution_count": 5,
   "metadata": {},
   "outputs": [
    {
     "data": {
      "text/plain": [
       "[2, 0, 2, 1, 1, 0, 1, 2]"
      ]
     },
     "execution_count": 5,
     "metadata": {},
     "output_type": "execute_result"
    }
   ],
   "source": [
    "i = Vector(GF3[1,0,2])\n",
    "c = i * G\n",
    "c"
   ]
  },
  {
   "cell_type": "markdown",
   "metadata": {
    "collapsed": true
   },
   "source": [
    "We zoeken nu een pariteitstestmatrix $H$ die voldoet aan $GH^T = 0$, m.a.w. $\\forall c: c = iG \\Rightarrow cH^T = 0$, m.a.w. de rijen van $H$ zijn basis voor de nulruimte van $G$. Die matrix $H$ kun je vinden met de methode `nullspace`."
   ]
  },
  {
   "cell_type": "code",
   "execution_count": 6,
   "metadata": {
    "scrolled": true
   },
   "outputs": [
    {
     "name": "stdout",
     "output_type": "stream",
     "text": [
      "H =\n",
      "[1, 0, 1, 0, 0, 0, 0, 1]\n",
      "[0, 1, 0, 0, 0, 0, 1, 1]\n",
      "[2, 0, 1, 0, 0, 1, 1, 1]\n",
      "[2, 1, 2, 0, 1, 1, 1, 1]\n",
      "[0, 2, 2, 1, 1, 1, 1, 1]\n",
      "\n",
      "True\n"
     ]
    }
   ],
   "source": [
    "H = G.nullspace()\n",
    "print(\"H =\")\n",
    "print(H)\n",
    "\n",
    "print((G*H.transpose()).is_zero())"
   ]
  },
  {
   "cell_type": "markdown",
   "metadata": {},
   "source": [
    "Deze is echter niet uniek: als we elementaire rijoperaties toepassen op H, blijft deze nog steeds de kern van $G$ opspannen. Dat komt omdat de rijruimte van een matrix onveranderd blijft bij het nemen van lineaire combinaties van rijen."
   ]
  },
  {
   "cell_type": "code",
   "execution_count": 7,
   "metadata": {},
   "outputs": [
    {
     "data": {
      "text/plain": [
       "True"
      ]
     },
     "execution_count": 7,
     "metadata": {},
     "output_type": "execute_result"
    }
   ],
   "source": [
    "H.rowswap(1,2)\n",
    "H.add_multiple_of_row(0,1, GF3[2])\n",
    "(G*H.transpose()).is_zero()"
   ]
  },
  {
   "cell_type": "markdown",
   "metadata": {},
   "source": [
    "Volgens de theorie is de $H$ eenvoudig te berekenen als $G$ van de vorm $[I | P]$ is. Dan is $H = [-P^T | I]$. Om dat te doen kunnen we dus eerst een equivalente code voor $\\mathbb{C}$ berekenen."
   ]
  },
  {
   "cell_type": "code",
   "execution_count": 8,
   "metadata": {},
   "outputs": [
    {
     "data": {
      "text/plain": [
       "[1, 0, 0, 2, 0, 1, 1, 2]\n",
       "[0, 1, 0, 2, 2, 1, 2, 0]\n",
       "[0, 0, 1, 0, 2, 2, 1, 2]"
      ]
     },
     "execution_count": 8,
     "metadata": {},
     "output_type": "execute_result"
    }
   ],
   "source": [
    "G_ = G.reduced_echelon_form()\n",
    "G_"
   ]
  },
  {
   "cell_type": "code",
   "execution_count": 9,
   "metadata": {},
   "outputs": [
    {
     "data": {
      "text/plain": [
       "[1, 1, 0, 1, 0, 0, 0, 0]\n",
       "[0, 1, 1, 0, 1, 0, 0, 0]\n",
       "[2, 2, 1, 0, 0, 1, 0, 0]\n",
       "[2, 1, 2, 0, 0, 0, 1, 0]\n",
       "[1, 0, 1, 0, 0, 0, 0, 1]"
      ]
     },
     "execution_count": 9,
     "metadata": {},
     "output_type": "execute_result"
    }
   ],
   "source": [
    "H_ = G_.nullspace_from_standard_form()\n",
    "H_"
   ]
  },
  {
   "cell_type": "markdown",
   "metadata": {},
   "source": [
    "En opnieuw"
   ]
  },
  {
   "cell_type": "code",
   "execution_count": 10,
   "metadata": {},
   "outputs": [
    {
     "data": {
      "text/plain": [
       "[0, 0, 0, 0, 0]\n",
       "[0, 0, 0, 0, 0]\n",
       "[0, 0, 0, 0, 0]"
      ]
     },
     "execution_count": 10,
     "metadata": {},
     "output_type": "execute_result"
    }
   ],
   "source": [
    "G_ * H_.transpose()"
   ]
  },
  {
   "cell_type": "markdown",
   "metadata": {},
   "source": [
    "De afstand van de code is het grootste getal $d$ zodat elke verzameling van $d$ kolommen van $H$ lineair onafhankelijk is."
   ]
  },
  {
   "cell_type": "code",
   "execution_count": 11,
   "metadata": {},
   "outputs": [
    {
     "data": {
      "text/plain": [
       "(5, 2)"
      ]
     },
     "execution_count": 11,
     "metadata": {},
     "output_type": "execute_result"
    }
   ],
   "source": [
    "d = H.transpose().num_independent_rows()\n",
    "t = max_num_corrected_errors(d)\n",
    "d, t"
   ]
  },
  {
   "cell_type": "markdown",
   "metadata": {},
   "source": [
    "Voor enkele van de voorgaande bewerkingen hadden we ook een `LinearBlockCode`-object kunnen maken."
   ]
  },
  {
   "cell_type": "code",
   "execution_count": 12,
   "metadata": {},
   "outputs": [
    {
     "data": {
      "text/plain": [
       "[2, 0, 2, 1, 1, 0, 1, 2]"
      ]
     },
     "execution_count": 12,
     "metadata": {},
     "output_type": "execute_result"
    }
   ],
   "source": [
    "code = LinearBlockCode(G, H) # De H is optioneel. In dat geval wordt H nu berekend.\n",
    "i = Vector(GF3[1,0,2])\n",
    "c = code.encode(i)\n",
    "c"
   ]
  },
  {
   "cell_type": "markdown",
   "metadata": {},
   "source": [
    "Deze code heeft een decoderingstabel"
   ]
  },
  {
   "cell_type": "code",
   "execution_count": 16,
   "metadata": {},
   "outputs": [
    {
     "name": "stdout",
     "output_type": "stream",
     "text": [
      "syndroom        |   fout\n",
      "==========================================\n",
      "[0, 0, 0, 0, 0] | [0, 0, 0, 0, 0, 0, 0, 0]\n",
      "[2, 2, 0, 2, 0] | [1, 0, 0, 0, 0, 0, 0, 0]\n",
      "[1, 1, 0, 1, 0] | [2, 0, 0, 0, 0, 0, 0, 0]\n",
      "[0, 0, 1, 1, 2] | [0, 1, 0, 0, 0, 0, 0, 0]\n",
      "[0, 0, 2, 2, 1] | [0, 2, 0, 0, 0, 0, 0, 0]\n",
      "[0, 1, 0, 2, 2] | [0, 0, 1, 0, 0, 0, 0, 0]\n",
      "[0, 2, 0, 1, 1] | [0, 0, 2, 0, 0, 0, 0, 0]\n",
      "[0, 0, 0, 0, 1] | [0, 0, 0, 1, 0, 0, 0, 0]\n",
      "[0, 0, 0, 0, 2] | [0, 0, 0, 2, 0, 0, 0, 0]\n",
      "[0, 0, 0, 1, 1] | [0, 0, 0, 0, 1, 0, 0, 0]\n",
      "...\n",
      "(nog 119  rijen)\n"
     ]
    }
   ],
   "source": [
    "table = code.decode_table()\n",
    "\n",
    "print(\"syndroom        |   fout\")\n",
    "print(42 * \"=\")\n",
    "i = 0\n",
    "N = 10\n",
    "for syndrome in table:\n",
    "    print(syndrome, \"|\", table[syndrome])\n",
    "    i += 1\n",
    "    if i >= N:\n",
    "        break\n",
    "print(\"...\\n(nog\", len(table) - N, \" rijen)\")"
   ]
  },
  {
   "cell_type": "markdown",
   "metadata": {},
   "source": [
    "Die kunnen we uittesten. Brengen we nu een fout aan die die code kan verbeteren:"
   ]
  },
  {
   "cell_type": "code",
   "execution_count": 14,
   "metadata": {},
   "outputs": [
    {
     "name": "stdout",
     "output_type": "stream",
     "text": [
      "v     = [2, 0, 1, 1, 1, 0, 1, 0] \n",
      "wt(e) = 2\n"
     ]
    }
   ],
   "source": [
    "e = Vector(GF3[0,0,2,0,0,0,0,1])\n",
    "v = c + e\n",
    "print(\"v     =\",v, \"\\nwt(e) =\", v.distance(c))"
   ]
  },
  {
   "cell_type": "markdown",
   "metadata": {},
   "source": [
    "De ontvanger van dit woord kan de fout terug opzoeken in de syndroomtabel, en zo het oorspronkelijke codewoord $v - e$ reconstrueren:"
   ]
  },
  {
   "cell_type": "code",
   "execution_count": 19,
   "metadata": {},
   "outputs": [
    {
     "data": {
      "text/plain": [
       "[0, 0, 2, 0, 0, 0, 0, 1]"
      ]
     },
     "execution_count": 19,
     "metadata": {},
     "output_type": "execute_result"
    }
   ],
   "source": [
    "s = v * code.Ht # Ht = H^T\n",
    "e = table[s]\n",
    "e"
   ]
  },
  {
   "cell_type": "markdown",
   "metadata": {},
   "source": [
    "Of wat ook kan:"
   ]
  },
  {
   "cell_type": "code",
   "execution_count": 20,
   "metadata": {},
   "outputs": [
    {
     "data": {
      "text/plain": [
       "[0, 0, 2, 0, 0, 0, 0, 1]"
      ]
     },
     "execution_count": 20,
     "metadata": {},
     "output_type": "execute_result"
    }
   ],
   "source": [
    "code.find_error(v)"
   ]
  },
  {
   "cell_type": "code",
   "execution_count": null,
   "metadata": {
    "collapsed": true
   },
   "outputs": [],
   "source": []
  }
 ],
 "metadata": {
  "kernelspec": {
   "display_name": "Python 3",
   "language": "python",
   "name": "python3"
  },
  "language_info": {
   "codemirror_mode": {
    "name": "ipython",
    "version": 3
   },
   "file_extension": ".py",
   "mimetype": "text/x-python",
   "name": "python",
   "nbconvert_exporter": "python",
   "pygments_lexer": "ipython3",
   "version": "3.6.3"
  }
 },
 "nbformat": 4,
 "nbformat_minor": 2
}
