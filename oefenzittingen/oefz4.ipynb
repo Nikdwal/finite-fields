{
 "cells": [
  {
   "cell_type": "markdown",
   "metadata": {},
   "source": [
    "## OEFENZITTING 4: UITBREIDINGSVELDEN EN EINDIGE VELDEN"
   ]
  },
  {
   "cell_type": "code",
   "execution_count": 1,
   "metadata": {
    "collapsed": true
   },
   "outputs": [],
   "source": [
    "from FiniteField import *\n",
    "from util import *"
   ]
  },
  {
   "cell_type": "markdown",
   "metadata": {},
   "source": [
    "### 1. Splits in irreduceerbare factoren over $\\mathbb{Z}_3$\n",
    "    1. x^5 + 2x^4 + x^3 + x^2 + 2\n",
    "    2. x^7 + x^6 + x^5 - x^3 + x^2 - x - 1"
   ]
  },
  {
   "cell_type": "code",
   "execution_count": 2,
   "metadata": {
    "scrolled": true
   },
   "outputs": [
    {
     "data": {
      "text/plain": [
       "2 + x² + x³ + 2x⁴ + x⁵"
      ]
     },
     "execution_count": 2,
     "metadata": {},
     "output_type": "execute_result"
    }
   ],
   "source": [
    "Z3 = IntegerField(3)\n",
    "x = Z3.x()\n",
    "p = Polynomial(Z3[2,0,1,1,2,1])\n",
    "p"
   ]
  },
  {
   "cell_type": "markdown",
   "metadata": {},
   "source": [
    "eerst de nulpunten"
   ]
  },
  {
   "cell_type": "code",
   "execution_count": 3,
   "metadata": {},
   "outputs": [
    {
     "data": {
      "text/plain": [
       "[2]"
      ]
     },
     "execution_count": 3,
     "metadata": {},
     "output_type": "execute_result"
    }
   ],
   "source": [
    "p.find_roots()"
   ]
  },
  {
   "cell_type": "code",
   "execution_count": 4,
   "metadata": {},
   "outputs": [
    {
     "data": {
      "text/plain": [
       "2 + x + x³ + x⁴"
      ]
     },
     "execution_count": 4,
     "metadata": {},
     "output_type": "execute_result"
    }
   ],
   "source": [
    "factors = [x - 2]\n",
    "p = p / factors[0]\n",
    "p"
   ]
  },
  {
   "cell_type": "markdown",
   "metadata": {},
   "source": [
    "Deze heeft geen nulpunten meer, maar zou nog wel gereduceerd kunnen worden in irreduceerbare factoren van graad 2."
   ]
  },
  {
   "cell_type": "code",
   "execution_count": 5,
   "metadata": {},
   "outputs": [
    {
     "data": {
      "text/plain": [
       "[1 + x², 2 + x + x², 2 + 2x + x²]"
      ]
     },
     "execution_count": 5,
     "metadata": {},
     "output_type": "execute_result"
    }
   ],
   "source": [
    "# TODO: dit is niet efficient. Er zijn truukjes om het beter te doen\n",
    "# maar ze zijn allemaal nogal brute force.\n",
    "irrb_graad2 = [f for f in Z3.all_monic_polynomials(2) if f.find_roots() == []]\n",
    "irrb_graad2"
   ]
  },
  {
   "cell_type": "code",
   "execution_count": 6,
   "metadata": {},
   "outputs": [
    {
     "data": {
      "text/plain": [
       "[1 + x, 1 + x², 2 + x + x²]"
      ]
     },
     "execution_count": 6,
     "metadata": {},
     "output_type": "execute_result"
    }
   ],
   "source": [
    "for f in irrb_graad2:\n",
    "    if (p % f).is_zero():\n",
    "        factors.append(f)\n",
    "        factors.append(p / f)\n",
    "        break\n",
    "factors"
   ]
  },
  {
   "cell_type": "markdown",
   "metadata": {},
   "source": [
    "Dit is het antwoord op de eerste deelvraag. Nu de tweede:"
   ]
  },
  {
   "cell_type": "code",
   "execution_count": 7,
   "metadata": {},
   "outputs": [
    {
     "data": {
      "text/plain": [
       "2 + 2x + x² + 2x³ + x⁵ + x⁶ + x⁷"
      ]
     },
     "execution_count": 7,
     "metadata": {},
     "output_type": "execute_result"
    }
   ],
   "source": [
    "p = Polynomial(Z3[-1,-1,1,-1,0,1,1,1])\n",
    "factors = []\n",
    "p"
   ]
  },
  {
   "cell_type": "code",
   "execution_count": 8,
   "metadata": {},
   "outputs": [
    {
     "data": {
      "text/plain": [
       "[]"
      ]
     },
     "execution_count": 8,
     "metadata": {},
     "output_type": "execute_result"
    }
   ],
   "source": [
    "p.find_roots()"
   ]
  },
  {
   "cell_type": "markdown",
   "metadata": {},
   "source": [
    "Geen nulpunten. We kijken of er irreduceerbare factoren zijn van graad 2."
   ]
  },
  {
   "cell_type": "code",
   "execution_count": 9,
   "metadata": {},
   "outputs": [
    {
     "name": "stdout",
     "output_type": "stream",
     "text": [
      "factoren: [1 + x², 2 + 2x + x²]\n",
      "overblijvend: 1 + 2x² + x³\n"
     ]
    }
   ],
   "source": [
    "for f in irrb_graad2:\n",
    "    if (p % f).is_zero():\n",
    "        factors.append(f)\n",
    "        p = p / f\n",
    "print(\"factoren:\", factors)\n",
    "print(\"overblijvend:\", p)"
   ]
  },
  {
   "cell_type": "markdown",
   "metadata": {},
   "source": [
    "Deze overblijvende is irreduceerbaar, want als die wel reduceerbaar was, dan had die nog een nulpunt gehad. Dat betekent dat de oorspronkelijke `p` ook dat nulpunt zou hebben, maar `p` had geen nulpunten. We zijn dus klaar."
   ]
  },
  {
   "cell_type": "markdown",
   "metadata": {},
   "source": [
    "### 2. Toon aan dat...\n",
    "onmogelijk in Python te doen"
   ]
  },
  {
   "cell_type": "markdown",
   "metadata": {},
   "source": [
    "### 3. Zij $GF(4) = \\{0,1,\\xi, \\xi + 1\\}$ met $\\xi^2 + \\xi + 1 = 0$."
   ]
  },
  {
   "cell_type": "code",
   "execution_count": 10,
   "metadata": {},
   "outputs": [
    {
     "data": {
      "text/plain": [
       "[0, 1, ξ, 1 + ξ]"
      ]
     },
     "execution_count": 10,
     "metadata": {},
     "output_type": "execute_result"
    }
   ],
   "source": [
    "Z2 = IntegerField(2)\n",
    "GF4 = ExtendedField(Z2, 2,\"ξ\", Polynomial(Z2[1,1,1]))\n",
    "GF4"
   ]
  },
  {
   "cell_type": "markdown",
   "metadata": {},
   "source": [
    "#### Bepaal alle monische irreduceerbare veeltermen van graad twee over GF(4)"
   ]
  },
  {
   "cell_type": "code",
   "execution_count": 11,
   "metadata": {},
   "outputs": [
    {
     "data": {
      "text/plain": [
       "[1 + ξx + x²,\n",
       " 1 + (1 + ξ)x + x²,\n",
       " ξ + x + x²,\n",
       " ξ + ξx + x²,\n",
       " 1 + ξ + x + x²,\n",
       " 1 + ξ + (1 + ξ)x + x²]"
      ]
     },
     "execution_count": 11,
     "metadata": {},
     "output_type": "execute_result"
    }
   ],
   "source": [
    "# opnieuw weer niet efficient\n",
    "irrb_graad2 = [f for f in GF4.all_monic_polynomials(2) if f.find_roots() == []]\n",
    "irrb_graad2"
   ]
  },
  {
   "cell_type": "markdown",
   "metadata": {},
   "source": [
    "#### construeer GF(4^2) uit GF(4) m.b.v. de veelterm $x^2 + xξ + ξ$"
   ]
  },
  {
   "cell_type": "code",
   "execution_count": 12,
   "metadata": {},
   "outputs": [
    {
     "data": {
      "text/plain": [
       "ξ + ξx + x²"
      ]
     },
     "execution_count": 12,
     "metadata": {},
     "output_type": "execute_result"
    }
   ],
   "source": [
    "w = Polynomial(GF4[\"ξ\", \"ξ\", 1])\n",
    "w"
   ]
  },
  {
   "cell_type": "code",
   "execution_count": 13,
   "metadata": {
    "scrolled": true
   },
   "outputs": [
    {
     "data": {
      "text/plain": [
       "['1',\n",
       " 'α',\n",
       " 'ξ + ξα',\n",
       " '1 + ξ + α',\n",
       " 'ξ + α',\n",
       " 'ξ',\n",
       " 'ξα',\n",
       " '1 + ξ + (1 + ξ)α',\n",
       " '1 + ξα',\n",
       " '1 + ξ + ξα',\n",
       " '1 + ξ',\n",
       " '(1 + ξ)α',\n",
       " '1 + α',\n",
       " 'ξ + (1 + ξ)α',\n",
       " '1 + (1 + ξ)α',\n",
       " '1']"
      ]
     },
     "execution_count": 13,
     "metadata": {},
     "output_type": "execute_result"
    }
   ],
   "source": [
    "# de computer kan enkel rekenen met veeltermen, niet met artificieel ingevoerde nulpunten,\n",
    "# maar dat maakt niet uit, want dat is isomorf.\n",
    "alpha = GF4.x()\n",
    "\n",
    "machten_alpha = [None for i in range(4**w.degree())]\n",
    "machten_alpha[0] = GF4[1]\n",
    "for i in range(1, 4 ** w.degree()):\n",
    "    machten_alpha[i] = (alpha * machten_alpha[i-1]) % w\n",
    "    \n",
    "[str(macht).replace(\"x\", \"α\") for macht in machten_alpha]"
   ]
  },
  {
   "cell_type": "code",
   "execution_count": 14,
   "metadata": {
    "collapsed": true
   },
   "outputs": [],
   "source": [
    "GF16 = ExtendedField(GF4, 2, \"α\", w)"
   ]
  },
  {
   "cell_type": "markdown",
   "metadata": {},
   "source": [
    "#### Bepaal de minimaalveeltermen van de elementen van GF(4^2) over GF(4) ."
   ]
  },
  {
   "cell_type": "markdown",
   "metadata": {},
   "source": [
    "De minimaalveelterm van $\\alpha$ is degene die we gekregen hebben (namelijk `w(x)`). De andere vinden we met de cyclotomische nevenklassen."
   ]
  },
  {
   "cell_type": "code",
   "execution_count": 15,
   "metadata": {},
   "outputs": [
    {
     "data": {
      "text/plain": [
       "[[0], [1, 4], [2, 8], [3, 12], [5], [6, 9], [7, 13], [10], [11, 14]]"
      ]
     },
     "execution_count": 15,
     "metadata": {},
     "output_type": "execute_result"
    }
   ],
   "source": [
    "nevenkl = cyclotomic_cosets(4, 15)\n",
    "nevenkl"
   ]
  },
  {
   "cell_type": "code",
   "execution_count": 16,
   "metadata": {},
   "outputs": [
    {
     "data": {
      "text/plain": [
       "[1 + x,\n",
       " ξ + ξx + x²,\n",
       " 1 + ξ + (1 + ξ)x + x²,\n",
       " 1 + ξx + x²,\n",
       " ξ + x,\n",
       " 1 + (1 + ξ)x + x²,\n",
       " ξ + x + x²,\n",
       " 1 + ξ + x,\n",
       " 1 + ξ + x + x²]"
      ]
     },
     "execution_count": 16,
     "metadata": {},
     "output_type": "execute_result"
    }
   ],
   "source": [
    "x = GF16.x()\n",
    "alpha = GF16[\"α\"]\n",
    "\n",
    "minimaalveeltermen = [\n",
    "    product([x - alpha**j for j in klasse])\n",
    "    for klasse in nevenkl\n",
    "]\n",
    "minimaalveeltermen"
   ]
  },
  {
   "cell_type": "markdown",
   "metadata": {},
   "source": [
    "#### Bepaal de primitieve veeltermen van graad 2 over GF(4) ."
   ]
  },
  {
   "cell_type": "code",
   "execution_count": 17,
   "metadata": {
    "scrolled": true
   },
   "outputs": [
    {
     "name": "stdout",
     "output_type": "stream",
     "text": [
      "ξ + x + x²\n",
      "ξ + ξx + x²\n",
      "1 + ξ + x + x²\n",
      "1 + ξ + (1 + ξ)x + x²\n"
     ]
    }
   ],
   "source": [
    "# de computer kan enkel rekenen met veeltermen, niet met artificieel ingevoerde nulpunten,\n",
    "# maar dat maakt niet uit, want dat is isomorf.\n",
    "nulpt = GF4.x()\n",
    "\n",
    "for veelterm in irrb_graad2:\n",
    "    nulpt_tot_de_i = GF4[1]\n",
    "    machten = [nulpt_tot_de_i]\n",
    "    for i in range(1, 4 ** 2 - 1):\n",
    "        nulpt_tot_de_i = (nulpt * nulpt_tot_de_i) % veelterm\n",
    "        if nulpt_tot_de_i in machten:\n",
    "            # deze veelterm is niet primitief\n",
    "            break\n",
    "        else:\n",
    "            machten.append(nulpt_tot_de_i)\n",
    "    if len(machten) == 4**2 - 1:\n",
    "        print(veelterm)"
   ]
  },
  {
   "cell_type": "markdown",
   "metadata": {},
   "source": [
    "### 4. Zij $GF(9) = \\{0,1,2,α,α+ 1,α+ 2,2α,2α+ 1,2α+ 2\\}$, met $α^2= 1−α$"
   ]
  },
  {
   "cell_type": "code",
   "execution_count": 18,
   "metadata": {},
   "outputs": [
    {
     "data": {
      "text/plain": [
       "2 + x + x²"
      ]
     },
     "execution_count": 18,
     "metadata": {},
     "output_type": "execute_result"
    }
   ],
   "source": [
    "GF3 = IntegerField(3)\n",
    "w = Polynomial(Z3[-1,1,1])\n",
    "GF9 = ExtendedField(GF3, 2, \"α\", w)\n",
    "w"
   ]
  },
  {
   "cell_type": "markdown",
   "metadata": {},
   "source": [
    "#### Ga na dat $x^2+αx+ 1$ irreduceerbaar is over GF(9) ."
   ]
  },
  {
   "cell_type": "code",
   "execution_count": 19,
   "metadata": {},
   "outputs": [
    {
     "data": {
      "text/plain": [
       "[]"
      ]
     },
     "execution_count": 19,
     "metadata": {},
     "output_type": "execute_result"
    }
   ],
   "source": [
    "p = Polynomial(GF9[1, \"α\", 1])\n",
    "# heeft p nulpunten?\n",
    "p.find_roots()"
   ]
  },
  {
   "cell_type": "markdown",
   "metadata": {},
   "source": [
    "#### Construeer GF(81) door GF(9) uit te breiden met een nulpunt ξ van deze veelterm."
   ]
  },
  {
   "cell_type": "markdown",
   "metadata": {},
   "source": [
    "!! Opgelet. Dit is geen primitieve veelterm. Precies omdat de multiplicatieve orde niet 1 is."
   ]
  },
  {
   "cell_type": "code",
   "execution_count": 20,
   "metadata": {},
   "outputs": [
    {
     "name": "stdout",
     "output_type": "stream",
     "text": [
      "De orde van ξ is 10\n"
     ]
    }
   ],
   "source": [
    "xi = GF9.x()\n",
    "xi_tot_de_i = GF9[1]\n",
    "for i in range(1, 9 ** p.degree()):\n",
    "    xi_tot_de_i = (xi * xi_tot_de_i) % p\n",
    "    if(xi_tot_de_i.is_one()):\n",
    "        print(\"De orde van ξ is\", i)\n",
    "        break"
   ]
  },
  {
   "cell_type": "markdown",
   "metadata": {},
   "source": [
    "We zien dat dit een deler is van de grootte van de orde van de multiplicatieve groep, maar deze groep is niet $GF(81)$ omdat we het nulelement moeten uitsluiten. Dus de orde van ξ is inderdaad een deler van 81 - 1 = 80."
   ]
  },
  {
   "cell_type": "code",
   "execution_count": null,
   "metadata": {
    "collapsed": true
   },
   "outputs": [],
   "source": []
  }
 ],
 "metadata": {
  "kernelspec": {
   "display_name": "Python 3",
   "language": "python",
   "name": "python3"
  },
  "language_info": {
   "codemirror_mode": {
    "name": "ipython",
    "version": 3
   },
   "file_extension": ".py",
   "mimetype": "text/x-python",
   "name": "python",
   "nbconvert_exporter": "python",
   "pygments_lexer": "ipython3",
   "version": "3.6.3"
  }
 },
 "nbformat": 4,
 "nbformat_minor": 2
}
